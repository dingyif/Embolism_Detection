{
 "cells": [
  {
   "cell_type": "code",
   "execution_count": 6,
   "metadata": {},
   "outputs": [],
   "source": [
    "#load the modules\n",
    "from shapely.ops import cascaded_union, polygonize\n",
    "from scipy.spatial import Delaunay\n",
    "import numpy as np\n",
    "import math\n",
    "import pandas as pd\n",
    "import shapely.geometry as geometry\n",
    "import random\n",
    "import matplotlib.pylab as plt\n",
    "import os"
   ]
  },
  {
   "cell_type": "code",
   "execution_count": 7,
   "metadata": {},
   "outputs": [],
   "source": [
    "def alpha_shape(points, alpha):\n",
    "    \"\"\"\n",
    "    Compute the alpha shape (concave hull) of a set\n",
    "    of points.\n",
    "    @param points: Iterable container of points.\n",
    "    @param alpha: alpha value to influence the\n",
    "        gooeyness of the border. Smaller numbers\n",
    "        don't fall inward as much as larger numbers.\n",
    "        Too large, and you lose everything!\n",
    "    \"\"\"\n",
    "    if len(points) < 4:\n",
    "        # When you have a triangle, there is no sense\n",
    "        # in computing an alpha shape.\n",
    "        return geometry.MultiPoint(list(points)).convex_hull\n",
    "    \n",
    "    def add_edge(edges, edge_points, coords, i, j):\n",
    "        \"\"\"\n",
    "        Add a line between the i-th and j-th points,\n",
    "        if not in the list already\n",
    "        \"\"\"\n",
    "        if (i, j) in edges or (j, i) in edges:\n",
    "        # already added\n",
    "            return edges.add( (i, j) )\n",
    "        edge_points.append(coords[[i, j]])\n",
    "    \n",
    "    coords = np.array([point for point in points])\n",
    "    tri = Delaunay(coords)\n",
    "    edges = set()\n",
    "    edge_points = []\n",
    "    # loop over triangles:\n",
    "    # ia, ib, ic = indices of corner points of the\n",
    "    # triangle\n",
    "    for ia, ib, ic in tri.vertices:\n",
    "        pa = coords[ia]\n",
    "        pb = coords[ib]\n",
    "        pc = coords[ic]\n",
    "        # Lengths of sides of triangle\n",
    "        a = math.sqrt((pa[0]-pb[0])**2 + (pa[1]-pb[1])**2)\n",
    "        b = math.sqrt((pb[0]-pc[0])**2 + (pb[1]-pc[1])**2)\n",
    "        c = math.sqrt((pc[0]-pa[0])**2 + (pc[1]-pa[1])**2)\n",
    "        # Semiperimeter of triangle\n",
    "        s = (a + b + c)/2.0\n",
    "        # Area of triangle by Heron's formula\n",
    "        area = math.sqrt(s*(s-a)*(s-b)*(s-c))\n",
    "        circum_r = a*b*c/(4.0*area)\n",
    "        # Here's the radius filter.\n",
    "        #print circum_r\n",
    "        if circum_r < 1.0/alpha:\n",
    "            add_edge(edges, edge_points, coords, ia, ib)\n",
    "            add_edge(edges, edge_points, coords, ib, ic)\n",
    "            add_edge(edges, edge_points, coords, ic, ia)\n",
    "    m = geometry.MultiLineString(edge_points)\n",
    "    triangles = list(polygonize(m))\n",
    "    return cascaded_union(triangles), edge_points"
   ]
  },
  {
   "cell_type": "code",
   "execution_count": 8,
   "metadata": {},
   "outputs": [],
   "source": [
    "from descartes import PolygonPatch\n",
    "def plot_polygon(polygon,margin_x = 100, margin_y = 50):\n",
    "    '''\n",
    "    input the polygon and margin output the polygon circle the points in th\n",
    "    '''\n",
    "    fig, ax = plt.subplots(figsize=(10,10))\n",
    "    margin_x = margin_x\n",
    "    margin_y = margin_y\n",
    "    x_min, y_min, x_max, y_max = polygon.bounds\n",
    "    ax.set_xlim([x_min-margin_x, x_max+margin_x])\n",
    "    ax.set_ylim([y_min-margin_y, y_max+margin_y])\n",
    "    patch = PolygonPatch(polygon, fc='#f6d55c',\n",
    "                         ec='grey', fill=True,\n",
    "                         zorder=-1)\n",
    "    ax.add_patch(patch)\n",
    "    return fig"
   ]
  },
  {
   "cell_type": "code",
   "execution_count": 9,
   "metadata": {},
   "outputs": [],
   "source": [
    "file_path = 'F:/emb_data/v11/Alclat2_stem/true_tif_has_fn_no_fp'\n",
    "points = pd.read_csv(os.path.join(file_path,'emb_points_time.csv'), sep=\",\",index_col= 0)#sep=';' when using get_data.Rmd"
   ]
  },
  {
   "cell_type": "code",
   "execution_count": 10,
   "metadata": {},
   "outputs": [
    {
     "name": "stdout",
     "output_type": "stream",
     "text": [
      "Empty DataFrame\n",
      "Columns: []\n",
      "Index: [0,209.0,419.0,1,1.0,7.0,16.0,55.0,217.29090909090908,420.03636363636366,2019-07-25 15:01:45,262, 1,210.0,419.0,1,1.0,7.0,16.0,55.0,217.29090909090908,420.03636363636366,2019-07-25 15:01:45,262, 2,211.0,417.0,1,1.0,7.0,16.0,55.0,217.29090909090908,420.03636363636366,2019-07-25 15:01:45,262, 3,211.0,418.0,1,1.0,7.0,16.0,55.0,217.29090909090908,420.03636363636366,2019-07-25 15:01:45,262, 4,211.0,419.0,1,1.0,7.0,16.0,55.0,217.29090909090908,420.03636363636366,2019-07-25 15:01:45,262]\n"
     ]
    },
    {
     "ename": "AttributeError",
     "evalue": "'DataFrame' object has no attribute 'number_emb'",
     "output_type": "error",
     "traceback": [
      "\u001b[1;31m---------------------------------------------------------------------------\u001b[0m",
      "\u001b[1;31mAttributeError\u001b[0m                            Traceback (most recent call last)",
      "\u001b[1;32m<ipython-input-10-ad75bfd6c223>\u001b[0m in \u001b[0;36m<module>\u001b[1;34m\u001b[0m\n\u001b[0;32m      1\u001b[0m \u001b[0mprint\u001b[0m\u001b[1;33m(\u001b[0m\u001b[0mpoints\u001b[0m\u001b[1;33m.\u001b[0m\u001b[0mhead\u001b[0m\u001b[1;33m(\u001b[0m\u001b[1;33m)\u001b[0m\u001b[1;33m)\u001b[0m\u001b[1;33m\u001b[0m\u001b[1;33m\u001b[0m\u001b[0m\n\u001b[1;32m----> 2\u001b[1;33m \u001b[0msample_point_Z\u001b[0m \u001b[1;33m=\u001b[0m \u001b[0mpoints\u001b[0m\u001b[1;33m.\u001b[0m\u001b[0mloc\u001b[0m\u001b[1;33m[\u001b[0m\u001b[0mpoints\u001b[0m\u001b[1;33m.\u001b[0m\u001b[0mnumber_emb\u001b[0m \u001b[1;33m==\u001b[0m \u001b[1;36m15\u001b[0m\u001b[1;33m,\u001b[0m\u001b[1;33m]\u001b[0m\u001b[1;31m#look at the 15th embolism event\u001b[0m\u001b[1;33m\u001b[0m\u001b[1;33m\u001b[0m\u001b[0m\n\u001b[0m",
      "\u001b[1;32m~\\Anaconda3\\lib\\site-packages\\pandas\\core\\generic.py\u001b[0m in \u001b[0;36m__getattr__\u001b[1;34m(self, name)\u001b[0m\n\u001b[0;32m   5177\u001b[0m             \u001b[1;32mif\u001b[0m \u001b[0mself\u001b[0m\u001b[1;33m.\u001b[0m\u001b[0m_info_axis\u001b[0m\u001b[1;33m.\u001b[0m\u001b[0m_can_hold_identifiers_and_holds_name\u001b[0m\u001b[1;33m(\u001b[0m\u001b[0mname\u001b[0m\u001b[1;33m)\u001b[0m\u001b[1;33m:\u001b[0m\u001b[1;33m\u001b[0m\u001b[1;33m\u001b[0m\u001b[0m\n\u001b[0;32m   5178\u001b[0m                 \u001b[1;32mreturn\u001b[0m \u001b[0mself\u001b[0m\u001b[1;33m[\u001b[0m\u001b[0mname\u001b[0m\u001b[1;33m]\u001b[0m\u001b[1;33m\u001b[0m\u001b[1;33m\u001b[0m\u001b[0m\n\u001b[1;32m-> 5179\u001b[1;33m             \u001b[1;32mreturn\u001b[0m \u001b[0mobject\u001b[0m\u001b[1;33m.\u001b[0m\u001b[0m__getattribute__\u001b[0m\u001b[1;33m(\u001b[0m\u001b[0mself\u001b[0m\u001b[1;33m,\u001b[0m \u001b[0mname\u001b[0m\u001b[1;33m)\u001b[0m\u001b[1;33m\u001b[0m\u001b[1;33m\u001b[0m\u001b[0m\n\u001b[0m\u001b[0;32m   5180\u001b[0m \u001b[1;33m\u001b[0m\u001b[0m\n\u001b[0;32m   5181\u001b[0m     \u001b[1;32mdef\u001b[0m \u001b[0m__setattr__\u001b[0m\u001b[1;33m(\u001b[0m\u001b[0mself\u001b[0m\u001b[1;33m,\u001b[0m \u001b[0mname\u001b[0m\u001b[1;33m,\u001b[0m \u001b[0mvalue\u001b[0m\u001b[1;33m)\u001b[0m\u001b[1;33m:\u001b[0m\u001b[1;33m\u001b[0m\u001b[1;33m\u001b[0m\u001b[0m\n",
      "\u001b[1;31mAttributeError\u001b[0m: 'DataFrame' object has no attribute 'number_emb'"
     ]
    }
   ],
   "source": [
    "print(points.head())\n",
    "sample_point_Z = points.loc[points.number_emb == 15,]#look at the 15th embolism event"
   ]
  },
  {
   "cell_type": "code",
   "execution_count": null,
   "metadata": {},
   "outputs": [],
   "source": [
    "#lets see how points look like \n",
    "plt.figure(figsize=(10,10))\n",
    "_ = plt.plot(sample_point_Z.col, sample_point_Z.row,'o',color='#20639B',alpha = 0.1, markersize = 4)"
   ]
  },
  {
   "cell_type": "code",
   "execution_count": null,
   "metadata": {},
   "outputs": [],
   "source": [
    "row_col_idx = int(np.where(sample_point_Z.columns == 'row')[0])#get the column index that has column names 'row'\n",
    "col_col_idx = int(np.where(sample_point_Z.columns == 'col')[0])\n",
    "#print(row_col_idx,col_col_idx)\n",
    "points_list = [list(sample_point_Z.iloc[i,row_col_idx:(col_col_idx+1)]) for i in range(len(sample_point_Z))]\n",
    "x = [p[0] for p in points_list]\n",
    "y = [p[1] for p in points_list]"
   ]
  },
  {
   "cell_type": "markdown",
   "metadata": {},
   "source": [
    "# Need to take a look at this envelope"
   ]
  },
  {
   "cell_type": "code",
   "execution_count": null,
   "metadata": {},
   "outputs": [],
   "source": [
    "point_collection = geometry.MultiPoint(points_list)\n",
    "_ = plot_polygon(point_collection.envelope)\n",
    "_ = plt.plot(x,y,'o', color='#20639B',markersize = 4,alpha = 0.1)"
   ]
  },
  {
   "cell_type": "markdown",
   "metadata": {},
   "source": [
    "# Boundaries is not supposed to be so uniform and straight, so we will naturally led to experiment with the CONVEX HULL of the points."
   ]
  },
  {
   "cell_type": "code",
   "execution_count": null,
   "metadata": {},
   "outputs": [],
   "source": [
    "convex_hull_polygon = point_collection.convex_hull\n",
    "_ = plot_polygon(convex_hull_polygon)\n",
    "_ = plt.plot(x,y,'o', color='#20639B',markersize = 4,alpha = 0.1)"
   ]
  },
  {
   "cell_type": "code",
   "execution_count": null,
   "metadata": {},
   "outputs": [],
   "source": [
    "sam_points_list = random.sample(points_list,math.floor(0.1*len(points_list)))"
   ]
  },
  {
   "cell_type": "code",
   "execution_count": null,
   "metadata": {},
   "outputs": [],
   "source": [
    "concave_hull, edge_points = alpha_shape(points_list, alpha=0.018)\n",
    "_ = plot_polygon(concave_hull)\n",
    "_ = plt.plot(x,y,'o', color='#20639B',markersize = 0.5,alpha = 0.4)"
   ]
  },
  {
   "cell_type": "code",
   "execution_count": null,
   "metadata": {},
   "outputs": [],
   "source": [
    "from matplotlib.collections import LineCollection\n",
    "alpha_list = [0.001,0.01,0.02,0.1,0.2,1]\n",
    "for i in alpha_list:\n",
    "    concave_hull, edge_points = alpha_shape(sam_points_list, alpha=i)\n",
    "    lines_to_plot = LineCollection(edge_points)\n",
    "    fig, ax = plt.subplots(figsize = (12,12))\n",
    "    ax.set_xlim(0, 1000)\n",
    "    ax.set_ylim(300, 420)\n",
    "    ax.set_title('Alpha={0} Delaunay triangulation'.format(i))\n",
    "    ax.add_collection(lines_to_plot)\n",
    "    plt.show()"
   ]
  },
  {
   "cell_type": "code",
   "execution_count": null,
   "metadata": {},
   "outputs": [],
   "source": [
    "#subset the embolism that less than 400 pixels too less\n",
    "from collections import Counter\n",
    "embolism_list = []\n",
    "for i in np.unique(points.number_emb):\n",
    "    table_z = Counter(points.number_emb)\n",
    "    if table_z[i] > 500:\n",
    "        embolism_list.append(i)"
   ]
  },
  {
   "cell_type": "code",
   "execution_count": null,
   "metadata": {},
   "outputs": [],
   "source": [
    "polygon_vertices = np.array([[0,0,0]]) #vertices matrix for plot\n",
    "for emb_num in embolism_list:\n",
    "    sample_point_Z = points.loc[points.number_emb == emb_num,]\n",
    "    points_list = [list(sample_point_Z.iloc[j,row_col_idx:(col_col_idx+1)]) for j in range(len(sample_point_Z))]\n",
    "    x = [p[0] for p in points_list]\n",
    "    y = [p[1] for p in points_list]\n",
    "    # might need to decide the alpha value acccording to the length of \n",
    "    alpha = 0.015\n",
    "    #might need to decide if the points too small \n",
    "    sam_points_list = random.sample(points_list,math.floor(0.1*len(points_list)))\n",
    "    concave_hull, edge_points = alpha_shape(sam_points_list, alpha = alpha)\n",
    "    #if we have 2 concave, we only want to visualize the first\n",
    "    if concave_hull.geom_type == 'Polygon':\n",
    "        vertices = np.transpose(np.array([concave_hull.exterior.xy[0], # x axis \n",
    "                                  concave_hull.exterior.xy[1], # y axis\n",
    "                                  np.repeat(emb_num,len(concave_hull.exterior.xy[0]))])) #put the label\n",
    "        polygon_vertices = np.concatenate((polygon_vertices,vertices), axis = 0)\n",
    "        fig, ax = plt.subplots(figsize = (12,12))\n",
    "        ax.fill(concave_hull.exterior.xy[0], concave_hull.exterior.xy[1])\n",
    "        ax.set_xlim(0, 1000)\n",
    "        ax.set_ylim(0, 600)\n",
    "        ax.set_title('Alpha={0} Delaunay triangulation'.format(alpha) + ' emb_num: ' + str(emb_num))\n",
    "    else:\n",
    "        fig, ax = plt.subplots(figsize = (12,12))\n",
    "        num_polygon = len(concave_hull)\n",
    "        for num in range(num_polygon):\n",
    "            #put the vertices data in for each polygon\n",
    "            vertices = np.transpose(np.array([concave_hull[num].exterior.xy[0], # x axis \n",
    "                                  concave_hull[num].exterior.xy[1], # y axis\n",
    "                                  np.repeat(emb_num,len(concave_hull[num].exterior.xy[0]))])) #put the label\n",
    "            polygon_vertices = np.concatenate((polygon_vertices,vertices), axis = 0)\n",
    "            #plot the concave hull for different ploygon\n",
    "            ax.fill(concave_hull[num].exterior.xy[0], concave_hull[num].exterior.xy[1])\n",
    "        ax.set_xlim(0, 1000)\n",
    "        ax.set_ylim(0, 600)\n",
    "        ax.set_title('Alpha={0} Delaunay triangulation'.format(alpha) + ' emb_num: ' + str(emb_num))"
   ]
  },
  {
   "cell_type": "code",
   "execution_count": null,
   "metadata": {},
   "outputs": [],
   "source": [
    "#clean up the zero values\n",
    "polygon_vertices = np.delete(polygon_vertices,(0), axis = 0)\n",
    "#put into csv file\n",
    "polygon_vertices_df = pd.DataFrame(polygon_vertices, \n",
    "                       columns = ['col', 'row', 'Z'])"
   ]
  },
  {
   "cell_type": "code",
   "execution_count": null,
   "metadata": {},
   "outputs": [],
   "source": [
    "polygon_vertices_df.to_csv(os.path.join(file_path,'polygon_vertices_df.csv'))"
   ]
  },
  {
   "cell_type": "code",
   "execution_count": null,
   "metadata": {},
   "outputs": [],
   "source": []
  }
 ],
 "metadata": {
  "kernelspec": {
   "display_name": "Python 3",
   "language": "python",
   "name": "python3"
  },
  "language_info": {
   "codemirror_mode": {
    "name": "ipython",
    "version": 3
   },
   "file_extension": ".py",
   "mimetype": "text/x-python",
   "name": "python",
   "nbconvert_exporter": "python",
   "pygments_lexer": "ipython3",
   "version": "3.7.4"
  }
 },
 "nbformat": 4,
 "nbformat_minor": 2
}
