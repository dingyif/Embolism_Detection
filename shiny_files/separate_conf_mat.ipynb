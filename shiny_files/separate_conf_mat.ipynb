{
 "cells": [
  {
   "cell_type": "markdown",
   "metadata": {},
   "source": [
    "## Calculate the stem Contour"
   ]
  },
  {
   "cell_type": "code",
   "execution_count": 2,
   "metadata": {},
   "outputs": [],
   "source": [
    "import numpy as np\n",
    "import cv2\n",
    "import matplotlib.pyplot as plt\n",
    "import os\n",
    "import glob\n",
    "import tifffile as tiff\n",
    "from scipy import ndimage, stats #for median filter,extract foreground\n",
    "import seaborn as sns\n",
    "from unidip import UniDip # check for Unimodality\n",
    "from PIL import Image\n",
    "import func_get_data as fx\n",
    "import pandas as pd\n",
    "import shutil"
   ]
  },
  {
   "cell_type": "markdown",
   "metadata": {},
   "source": [
    "## Define the path to imgs and predict tiff"
   ]
  },
  {
   "cell_type": "code",
   "execution_count": null,
   "metadata": {},
   "outputs": [],
   "source": [
    "folder_idx = 0\n",
    "dingyi_cwd = os.getcwd()\n",
    "disk_path = os.path.join(dingyi_cwd,'../..')\n",
    "#folder_result path\n",
    "process_output = os.path.join(disk_path,'Server_output/processed/v11.007_processed')\n",
    "#list alll the folder in that \n",
    "all_folders_name = np.sort(os.listdir(process_output))\n",
    "all_folders_dir = [os.path.join(process_output,folder) for folder in all_folders_name]\n",
    "all_folders_dir_processed = [os.path.join(folder_dir, os.listdir(folder_dir)[1]) for folder_dir in all_folders_dir]\n",
    "dir_path = all_folders_dir_processed[folder_idx]\n",
    "folder_name = all_folders_name[folder_idx]#Alclat2_stem\n",
    "#if the name is is similar to the path, we will enter to that folder no need to take care of this part yet.\n",
    "img_folder = os.path.join(disk_path,'Done/Processed')\n",
    "use_predict_tif = True\n",
    "has_processed = True"
   ]
  },
  {
   "cell_type": "markdown",
   "metadata": {},
   "source": [
    "## calculate centroid position of embolism events"
   ]
  },
  {
   "cell_type": "code",
   "execution_count": null,
   "metadata": {},
   "outputs": [],
   "source": [
    "input_tif_path = fx.get_input_tif_path(use_predict_tif,has_processed,dir_path,img_folder)\n",
    "input_tiff = tiff.imread(input_tif_path)#num_imgs x row_num x col_num\n",
    "input_tiff = -(input_tiff-255)\n",
    "#0: background. 255:embolism\n",
    "emb_img_idx_plot,emb_num_plot = fx.get_img_idx_from_tiff(input_tiff)\n",
    "cc_min_area = 50#for better visualization (you can barely see cc with area < cc_min_area even if you plot them out)\n",
    "cc_min_area2 = 10#is used in case there's no cc with area > cc_min_area\n",
    "plot_mat_all = fx.get_pixel_pos_and_cc_from_imgs(input_tiff,emb_img_idx_plot,cc_min_area,cc_min_area2)\n",
    "#calculate the centroid row and col position of our prediction result\n",
    "plot_mat_all_avg = plot_mat_all.loc[:,['number_emb','cc_centroid_row','cc_centroid_col']].groupby('number_emb').max()\n",
    "#reset the number of embolism to column\n",
    "plot_mat_all_avg.reset_index(inplace=True)\n",
    "#put the corresponding img number in dataframe\n",
    "plot_mat_all_avg['emb_img_idx'] = emb_img_idx_plot\n",
    "#initial inside or not, inistial it all to be True, and change to False if its not \n",
    "plot_mat_all_avg['inside_mask'] = True\n",
    "#go into the current processing folder\n",
    "current_raw_img_paths = os.path.join(img_folder,folder_name)\n",
    "# list all the img in current processing folder\n",
    "img_paths = sorted(glob.glob(current_raw_img_paths+'/*.png'))\n",
    "\n",
    "# for each row i want to test whether this is currentlty inside the mask or not\n",
    "for i in plot_mat_all_avg.index:\n",
    "    #get the current img_idx \n",
    "    img_idx = plot_mat_all_avg.loc[i,'emb_img_idx']\n",
    "    ##process the img stem(if its uni-modal distributed, using extract_green layer, else OTSU thresholding)\n",
    "    #perform unimodality test\n",
    "    current_img_path = img_paths[img_idx]\n",
    "    if fx.unimodality_dip_test(current_img_path):\n",
    "        imgRGB_arr=np.float32(Image.open(current_img_path))#RGB image to numpy array\n",
    "        imgGarray = imgRGB_arr[:,:,1] #only look at G layer\n",
    "        stem_countour = fx.extract_foregroundRGB(imgGarray)\n",
    "    else:\n",
    "        #read the first img\n",
    "        frist_img_array = cv2.imread(first_img_path)\n",
    "        #compute the stem mask ndarray\n",
    "        stem_countour = fx.foregound_Th_OTSU(frist_img_array)\n",
    "    #extract the corresponding centorid row and col values\n",
    "    cen_row_pos = int(np.ceil(plot_mat_all_avg.loc[i,'cc_centroid_row']))\n",
    "    cen_col_pos = int(np.ceil(plot_mat_all_avg.loc[i,'cc_centroid_col']))\n",
    "    #check whether this centroid layer inside the countour\n",
    "    plot_mat_all_avg.loc[i,'inside_mask'] = stem_countour[cen_row_pos,cen_col_pos] == 1"
   ]
  },
  {
   "cell_type": "markdown",
   "metadata": {},
   "source": [
    "## For each embolism event want to figure out its inside or not and save the image of those not inside the mask"
   ]
  },
  {
   "cell_type": "code",
   "execution_count": null,
   "metadata": {},
   "outputs": [],
   "source": [
    "# for each row i want to test whether this is currentlty inside the mask or not\n",
    "for i in plot_mat_all_avg.index:\n",
    "    #get the current img_idx \n",
    "    img_idx = plot_mat_all_avg.loc[i,'emb_img_idx']\n",
    "    ##process the img stem(if its uni-modal distributed, using extract_green layer, else OTSU thresholding)\n",
    "    #perform unimodality test\n",
    "    current_img_path = img_paths[img_idx]\n",
    "    if fx.unimodality_dip_test(current_img_path):\n",
    "        imgRGB_arr=np.float32(Image.open(current_img_path))#RGB image to numpy array\n",
    "        imgGarray = imgRGB_arr[:,:,1] #only look at G layer\n",
    "        stem_countour = fx.extract_foregroundRGB(imgGarray)\n",
    "    else:\n",
    "        #read the first img\n",
    "        frist_img_array = cv2.imread(first_img_path)\n",
    "        #compute the stem mask ndarray\n",
    "        stem_countour = fx.foregound_Th_OTSU(frist_img_array)\n",
    "    #extract the corresponding centorid row and col values\n",
    "    cen_row_pos = int(np.ceil(plot_mat_all_avg.loc[i,'cc_centroid_row']))\n",
    "    cen_col_pos = int(np.ceil(plot_mat_all_avg.loc[i,'cc_centroid_col']))\n",
    "    #check whether this centroid layer inside the countour\n",
    "    mask_bool = stem_countour[cen_row_pos,cen_col_pos] == 1\n",
    "    plot_mat_all_avg.loc[i,'inside_mask'] = mask_bool\n",
    "    # if it's not inside mask, want to save the photos to see whether its our mask problem\n",
    "    not_inside_mask_folder = os.path.join(dir_path,'not_inside_mask')\n",
    "    if not os.path.exists(not_inside_mask_folder):\n",
    "        os.makedirs(not_inside_mask_folder)\n",
    "    else:\n",
    "        shutil.rmtree(not_inside_mask_folder)\n",
    "        os.makedirs(not_inside_mask_folder)\n",
    "    if mask_bool == False:\n",
    "        fig,ax = plt.subplots(figsize = (5,10))\n",
    "        ax.imshow(imgGarray * stem_countour,cmap = 'gray')\n",
    "        ax.scatter(cen_col_pos,cen_row_pos,color = 'r')\n",
    "        ax.set_title(f'img idx number {i}')\n",
    "        plt.savefig(not_inside_mask_folder + str(i) + '_not_in_img.jpg' )"
   ]
  },
  {
   "cell_type": "markdown",
   "metadata": {},
   "source": [
    "## calculate the confusion metrics for seperated events"
   ]
  },
  {
   "cell_type": "code",
   "execution_count": 8,
   "metadata": {},
   "outputs": [],
   "source": [
    "plot_mat_all_avg[plot_mat_all_avg['inside_mask'] == False]\n",
    "#find out the real tiff in the img folders\n",
    "true_tiff_path = glob.glob(current_raw_img_paths+'/*.tif')\n",
    "predict_inside_idx = set(plot_mat_all_avg[plot_mat_all_avg['inside_mask'] == True]['emb_img_idx'])\n",
    "#calculate the confusion mat, fp list and fn.\n",
    "con_img_list = fx.confusion_mat_idx(predict_inside_idx,true_tiff_path)\n",
    "metrix_img = fx.calc_metric(con_img_list[0])\n",
    "with open (dir_path + '/confusion_mat_margin.txt','w') as f:\n",
    "    f.write('img level metric:\\n')\n",
    "    f.write(str(metrix_img))\n",
    "    f.write(str(\"\\n\\n\"))\n",
    "    f.write(str(con_img_list[0]))\n",
    "    f.write(str(\"\\n\\n\"))\n",
    "    f.write(f'false positive img index: {con_img_list[1]}')\n",
    "    f.write(str(\"\\n\\n\"))\n",
    "    f.write(f'false negative img index: {con_img_list[2]}')\n",
    "    f.write(str(\"\\n\\n\"))"
   ]
  },
  {
   "cell_type": "code",
   "execution_count": null,
   "metadata": {},
   "outputs": [],
   "source": []
  }
 ],
 "metadata": {
  "kernelspec": {
   "display_name": "Python 3.7.4 64-bit ('base': conda)",
   "language": "python",
   "name": "python37464bitbaseconda1e33d8c732904e519e72085894774c59"
  },
  "language_info": {
   "codemirror_mode": {
    "name": "ipython",
    "version": 3
   },
   "file_extension": ".py",
   "mimetype": "text/x-python",
   "name": "python",
   "nbconvert_exporter": "python",
   "pygments_lexer": "ipython3",
   "version": "3.7.4"
  }
 },
 "nbformat": 4,
 "nbformat_minor": 2
}
