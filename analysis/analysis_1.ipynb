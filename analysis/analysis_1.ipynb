{
 "cells": [
  {
   "cell_type": "markdown",
   "metadata": {},
   "source": [
    "# load modules"
   ]
  },
  {
   "cell_type": "code",
   "execution_count": 1,
   "metadata": {},
   "outputs": [],
   "source": [
    "import os,sys,re\n",
    "import glob\n",
    "import pandas as pd\n",
    "import scipy.io\n",
    "import numpy as np \n",
    "import matplotlib.pyplot as plt\n",
    "import seaborn as sns\n",
    "import time \n",
    "import math\n",
    "import tifffile as tiff\n",
    "import tensorflow as tf\n",
    "import pickle#save multiple variables into a pickle file\n",
    "\n",
    "%matplotlib inline\n",
    "from tqdm import tqdm_notebook as tqdm\n",
    "from datetime import datetime\n",
    "\n",
    "#add folder to the system-path at runtime, for importing file in another folder\n",
    "if '../shiny_files' not in sys.path:\n",
    "    sys.path.insert(0, '../shiny_files')\n",
    "import func_get_data as fx"
   ]
  },
  {
   "cell_type": "markdown",
   "metadata": {},
   "source": [
    "# load the data "
   ]
  },
  {
   "cell_type": "code",
   "execution_count": 2,
   "metadata": {},
   "outputs": [
    {
     "ename": "FileNotFoundError",
     "evalue": "[WinError 3] The system cannot find the path specified: 'D:\\\\Diane\\\\Col\\\\research\\\\tian_grp_meeting\\\\emb_proj\\\\code\\\\embolism_project\\\\analysis\\\\..\\\\..\\\\emb_data\\\\true_tif'",
     "output_type": "error",
     "traceback": [
      "\u001b[1;31m---------------------------------------------------------------------------\u001b[0m",
      "\u001b[1;31mFileNotFoundError\u001b[0m                         Traceback (most recent call last)",
      "\u001b[1;32m<ipython-input-2-1180a9a3569a>\u001b[0m in \u001b[0;36m<module>\u001b[1;34m\u001b[0m\n\u001b[0;32m     14\u001b[0m '''\n\u001b[0;32m     15\u001b[0m \u001b[0mdisk_path\u001b[0m \u001b[1;33m=\u001b[0m \u001b[0mos\u001b[0m\u001b[1;33m.\u001b[0m\u001b[0mpath\u001b[0m\u001b[1;33m.\u001b[0m\u001b[0mjoin\u001b[0m\u001b[1;33m(\u001b[0m\u001b[0minput_dir\u001b[0m\u001b[1;33m,\u001b[0m\u001b[0mversion_name\u001b[0m\u001b[1;33m)\u001b[0m\u001b[1;33m\u001b[0m\u001b[1;33m\u001b[0m\u001b[0m\n\u001b[1;32m---> 16\u001b[1;33m \u001b[0mall_folders_name\u001b[0m \u001b[1;33m=\u001b[0m \u001b[0mnp\u001b[0m\u001b[1;33m.\u001b[0m\u001b[0msort\u001b[0m\u001b[1;33m(\u001b[0m\u001b[0mos\u001b[0m\u001b[1;33m.\u001b[0m\u001b[0mlistdir\u001b[0m\u001b[1;33m(\u001b[0m\u001b[0mdisk_path\u001b[0m\u001b[1;33m)\u001b[0m\u001b[1;33m)\u001b[0m\u001b[1;33m\u001b[0m\u001b[1;33m\u001b[0m\u001b[0m\n\u001b[0m\u001b[0;32m     17\u001b[0m \u001b[1;33m\u001b[0m\u001b[0m\n\u001b[0;32m     18\u001b[0m \u001b[0mall_folders_dir\u001b[0m \u001b[1;33m=\u001b[0m \u001b[1;33m[\u001b[0m\u001b[0mos\u001b[0m\u001b[1;33m.\u001b[0m\u001b[0mpath\u001b[0m\u001b[1;33m.\u001b[0m\u001b[0mjoin\u001b[0m\u001b[1;33m(\u001b[0m\u001b[0mdisk_path\u001b[0m\u001b[1;33m,\u001b[0m\u001b[0mfolder\u001b[0m\u001b[1;33m)\u001b[0m \u001b[1;32mfor\u001b[0m \u001b[0mfolder\u001b[0m \u001b[1;32min\u001b[0m \u001b[0mall_folders_name\u001b[0m\u001b[1;33m]\u001b[0m\u001b[1;33m\u001b[0m\u001b[1;33m\u001b[0m\u001b[0m\n",
      "\u001b[1;31mFileNotFoundError\u001b[0m: [WinError 3] The system cannot find the path specified: 'D:\\\\Diane\\\\Col\\\\research\\\\tian_grp_meeting\\\\emb_proj\\\\code\\\\embolism_project\\\\analysis\\\\..\\\\..\\\\emb_data\\\\true_tif'"
     ]
    }
   ],
   "source": [
    "version_name = 'true_tif' #'v11'\n",
    "#input_dir = 'F:\\emb_data'\n",
    "input_dir = os.path.join(os.getcwd(),'..','..','emb_data')\n",
    "\n",
    "#use the below arguments and save different csv file\n",
    "use_predict_tif = False #(False):use true labels tif . (True or has_processed=False): use predict.tif \n",
    "#default is to plot tp emb.\n",
    "plot_fn = True #(TRUE):plot fn emb. from false_positive_index.txt \n",
    "plot_fp = False \n",
    "inv_c = True #stem curved like inverse of letter C or not\n",
    "\n",
    "'''\n",
    "Paths\n",
    "'''\n",
    "disk_path = os.path.join(input_dir,version_name)\n",
    "all_folders_name = np.sort(os.listdir(disk_path))\n",
    "\n",
    "all_folders_dir = [os.path.join(disk_path,folder) for folder in all_folders_name]\n",
    "\n",
    "n_folders = len(all_folders_name)#[Diane 0522]\n",
    "\n",
    "#output folder name based on user-specified arguments\n",
    "if use_predict_tif:\n",
    "    folder_tag1 = 'pred_tif'\n",
    "else:\n",
    "    folder_tag1= 'true_tif'\n",
    "\n",
    "if plot_fn:\n",
    "    folder_tag2 = 'has_fn'\n",
    "else:\n",
    "    folder_tag2 = 'no_fn'\n",
    "\n",
    "if plot_fp:\n",
    "    folder_tag3 = 'has_fp'\n",
    "else:\n",
    "    folder_tag3 = 'no_fp'"
   ]
  },
  {
   "cell_type": "markdown",
   "metadata": {},
   "source": [
    "# Define the functions"
   ]
  },
  {
   "cell_type": "code",
   "execution_count": null,
   "metadata": {},
   "outputs": [],
   "source": [
    "def compute_cc_emb_info(folder_idx):\n",
    "    folder_name_short = all_folders_name[folder_idx]\n",
    "    dir_path = all_folders_dir[folder_idx]\n",
    "    input_folder_tag = '_'.join((folder_tag1,folder_tag2,folder_tag3))\n",
    "    input_folder = os.path.join(dir_path,input_folder_tag)\n",
    "    pickle_dict = pickle.load(open(os.path.join(input_folder,'shinydata.pkl'),\"rb\"))#dictionary\n",
    "    plot_mat_time = pickle_dict['plot_mat_time']\n",
    "    cc_emb_info = plot_mat_time.drop(['row','col'], axis = 1)#drop two columns that are of pixel level (smaller than cc level)\n",
    "    cc_emb_info = cc_emb_info.drop_duplicates()#keep unique rows\n",
    "    x_mean = np.mean(plot_mat_time['col'])\n",
    "    #[Diane 0522]returns plot_mat_time, else there'll be err in compute_col_dist\n",
    "    return cc_emb_info, x_mean, folder_name_short, plot_mat_time "
   ]
  },
  {
   "cell_type": "code",
   "execution_count": null,
   "metadata": {},
   "outputs": [],
   "source": [
    "def compute_col_dist(cc_emb_info,x_mean,plot_mat_time):\n",
    "    cc_centroid_col_dist_to_mean = cc_emb_info['cc_centroid_col'].apply(lambda x: abs(x - x_mean))\n",
    "    cc_centroid_col_dist_to_mean = pd.concat([cc_centroid_col_dist_to_mean.reset_index(drop=True),cc_emb_info['time_since_start(mins)'].reset_index(drop=True)],axis=1)\n",
    "    cc_centroid_col_dist_to_mean = cc_centroid_col_dist_to_mean.rename(columns = {'cc_centroid_col':'cc_centroid_col_dist_to_mean'})\n",
    "    cc_col_dist_mean = cc_centroid_col_dist_to_mean.groupby(['time_since_start(mins)'])['cc_centroid_col_dist_to_mean'].mean().reset_index()\n",
    "    cc_col_dist_mean = cc_col_dist_mean.rename(columns = {'cc_centroid_col_dist_to_mean':'cc_cen_col_dist_mean'})\n",
    "    summary_statistics = plot_mat_time.groupby('number_emb').mean().iloc[:,-6:]#img level\n",
    "    summary_statistics = summary_statistics.merge(cc_col_dist_mean, on = 'time_since_start(mins)')\n",
    "    summary_statistics['folder_name'] = folder_name_short.lower()\n",
    "    return summary_statistics"
   ]
  },
  {
   "cell_type": "code",
   "execution_count": null,
   "metadata": {},
   "outputs": [],
   "source": [
    "def summary_statistics_all(n_folders):\n",
    "    total_summary_stats = pd.DataFrame()\n",
    "    for i in tqdm(range(n_folders)):\n",
    "        cc_emb_info, x_mean, folder_name_short , plot_mat_time = compute_cc_emb_info(i)#[Diane 0522]\n",
    "        summary_statistics = compute_col_dist(cc_emb_info,x_mean, plot_mat_time)\n",
    "        summary_statistics['folder_name'] = folder_name_short.lower()#[Diane 0522]\n",
    "        total_summary_stats = total_summary_stats.append(summary_statistics)\n",
    "    return total_summary_stats"
   ]
  },
  {
   "cell_type": "markdown",
   "metadata": {},
   "source": [
    "# Cumulative embolized area vs time"
   ]
  },
  {
   "cell_type": "code",
   "execution_count": null,
   "metadata": {},
   "outputs": [],
   "source": [
    "cc_area_summary = pd.DataFrame()\n",
    "for i in tqdm(range(n_folders)):\n",
    "    cc_emb_info, x_mean, folder_name_short, _ = compute_cc_emb_info(i)#[Diane 0522]\n",
    "    summary_statistics = cc_emb_info.groupby('time_since_start(mins)').agg({'cc_area':'sum','number_emb':'median'}).reset_index()\n",
    "    summary_statistics['folder_name'] = folder_name_short.lower()\n",
    "    summary_statistics['cumsum_cc_area'] = summary_statistics.cc_area.cumsum()/summary_statistics.cc_area.cumsum().max()\n",
    "    cc_area_summary = cc_area_summary.append(summary_statistics)"
   ]
  },
  {
   "cell_type": "code",
   "execution_count": null,
   "metadata": {},
   "outputs": [],
   "source": [
    "cc_area_summary"
   ]
  },
  {
   "cell_type": "code",
   "execution_count": null,
   "metadata": {},
   "outputs": [],
   "source": [
    "import plotly.offline as pyo\n",
    "import plotly.express as px\n",
    "import plotly.graph_objects as go\n",
    "pyo.init_notebook_mode()\n",
    "fig = px.line(cc_area_summary, x=\"time_since_start(mins)\", y=\"cumsum_cc_area\", color = 'folder_name')\n",
    "fig.show()"
   ]
  },
  {
   "cell_type": "code",
   "execution_count": null,
   "metadata": {},
   "outputs": [],
   "source": [
    "fig.write_html(\"percentage.html\")#save above fig into html"
   ]
  },
  {
   "cell_type": "markdown",
   "metadata": {},
   "source": [
    "# Total summary statistics for all folders\n",
    "\n",
    "doesn't include pixel position of embolism"
   ]
  },
  {
   "cell_type": "code",
   "execution_count": null,
   "metadata": {},
   "outputs": [],
   "source": [
    "total_summary_stats = summary_statistics_all(n_folders)#[Diane 0522]\n",
    "all_folders_name_short = np.unique(total_summary_stats.folder_name)#[Diane 0522]"
   ]
  },
  {
   "cell_type": "code",
   "execution_count": null,
   "metadata": {},
   "outputs": [],
   "source": [
    "total_summary_stats#[Diane 0522]"
   ]
  },
  {
   "cell_type": "markdown",
   "metadata": {},
   "source": [
    "# Potential Problem of the above total_summary_stats:\n",
    "\n",
    "cc_wdith, cc_height, cc_area, cc_centroid_row, cc_centroid_col are NOT average across all the embolism in one img.\n",
    "\n",
    "<span style=\"color:red\">  Therefore, the distribution of centroid position below might not be representative. </span>"
   ]
  },
  {
   "cell_type": "markdown",
   "metadata": {},
   "source": [
    "# Distribution of centroid position (might be incorrect, see the reason above)\n",
    "\n",
    "should be centroid position for every embolism event in an experiment"
   ]
  },
  {
   "cell_type": "code",
   "execution_count": null,
   "metadata": {},
   "outputs": [],
   "source": [
    "folder_idx1 = 0#[Diane 0522] introduce folder_idx and plot title\n",
    "folder_idx2 = 1\n",
    "\n",
    "ss_1 = total_summary_stats[total_summary_stats.folder_name == all_folders_name_short[folder_idx1]]\n",
    "ss_2 = total_summary_stats[total_summary_stats.folder_name == all_folders_name_short[folder_idx2]]\n",
    "#fig, ax = plt.subplots(1,2,figsize = (10,10))\n",
    "fig1 = sns.jointplot(y = ss_1.cc_centroid_row , x= ss_1.cc_centroid_col,cmap=\"Reds\",kind = 'kde')\n",
    "fig1.fig.suptitle(\"%s\" % all_folders_name_short[folder_idx1])#[Diane 0522]\n",
    "fig2 = sns.jointplot(y = ss_2.cc_centroid_row , x= ss_2.cc_centroid_col,cmap=\"Blues\",kind = 'kde')\n",
    "fig2.fig.suptitle(\"%s\" % all_folders_name_short[folder_idx2])"
   ]
  },
  {
   "cell_type": "code",
   "execution_count": null,
   "metadata": {},
   "outputs": [],
   "source": [
    "import plotly.offline as pyo\n",
    "import plotly.express as px\n",
    "import plotly.graph_objects as go\n",
    "pyo.init_notebook_mode()\n",
    "fig = px.scatter(total_summary_stats, x=\"time_since_start(mins)\", y=\"cc_cen_col_dist_mean\", color=\"folder_name\",size = 'cc_area')\n",
    "fig.show()"
   ]
  }
 ],
 "metadata": {
  "kernelspec": {
   "display_name": "Python 3",
   "language": "python",
   "name": "python3"
  },
  "language_info": {
   "codemirror_mode": {
    "name": "ipython",
    "version": 3
   },
   "file_extension": ".py",
   "mimetype": "text/x-python",
   "name": "python",
   "nbconvert_exporter": "python",
   "pygments_lexer": "ipython3",
   "version": "3.7.4"
  }
 },
 "nbformat": 4,
 "nbformat_minor": 2
}
