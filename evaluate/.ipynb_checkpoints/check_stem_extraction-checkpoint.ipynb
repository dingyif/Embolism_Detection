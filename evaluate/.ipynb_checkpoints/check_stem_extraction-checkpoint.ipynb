{
 "cells": [
  {
   "cell_type": "code",
   "execution_count": 1,
   "metadata": {},
   "outputs": [],
   "source": [
    "from PIL import Image\n",
    "import glob\n",
    "import numpy as np\n",
    "import os#for creating/emptying folders\n",
    "import re\n",
    "import sys\n",
    "from PIL import Image\n",
    "import matplotlib.pyplot as plt\n",
    "\n",
    "#disk_path = os.path.abspath(os.path.join(os.path.dirname(__file__), \"..\"))\n",
    "disk_path = 'F:/server_output/'\n",
    "has_processed = True#Working on Processed data or Unprocessed data\n",
    "version_name= 'v11'\n",
    "stem_filenames=['m_3_is_stem_mat2_0.jpg','m_3_is_stem_mat2_last.jpg','m_3_stem_and_img_0.jpg','m_3_stem_and_img_last.jpg']\n",
    "stem_filenames_title=['1st img','last img','1st img','last img']\n",
    "\n",
    "\n",
    "def check_foldername(foldernames,test_string):\n",
    "    has_test_string = np.zeros((len(foldernames),len(test_string)))\n",
    "    for f_i,foldername in enumerate(foldernames):\n",
    "        for s_i,string in enumerate(test_string):\n",
    "            if string in foldername.lower():\n",
    "                has_test_string[f_i,s_i] = 1\n",
    "    #remove foldernames that doesn't contain any element of test_string\n",
    "    keep_vec = np.sum(has_test_string,1)\n",
    "    if np.where(keep_vec>0)[0].size < len(foldernames):\n",
    "        print(f'ignore {len(foldernames)-np.where(keep_vec>0)[0].size} folder')\n",
    "    foldernames_new = [foldernames[i] for i in np.where(keep_vec>0)[0]]#only keep the folder names with \"stem\" or \"leaf\"\n",
    "    has_test_string_new = np.asarray([has_test_string[i,] for i in np.where(keep_vec>0)[0]])\n",
    "    return foldernames_new,has_test_string_new\n",
    "\n",
    "def clean_folder_name(all_folders_name,has_stem_leaf,stem_leaf_list):\n",
    "    '''\n",
    "    input: ['Alclat2_stem.DONEGOOD.HANNAH.9.26', 'casarb2.2_stem.HANNAHDONEGOD.11.4', 'casarb5_stem.DONEGOOD.HANNAH.11.7'...]\n",
    "    output: ['Alclat2_stem', 'casarb2.2_stem', 'casarb5_stem',...]\n",
    "    '''\n",
    "    all_folders_name_short=all_folders_name.copy()\n",
    "    for i, foldername in enumerate(all_folders_name):\n",
    "        terminate_word = stem_leaf_list[int(np.where(has_stem_leaf[i]>0)[0])]#stem or leaf\n",
    "        stop_index = foldername.lower().find(terminate_word)\n",
    "        all_folders_name_short[i] = foldername[:(stop_index+len(terminate_word))]\n",
    "    return all_folders_name_short\n"
   ]
  },
  {
   "cell_type": "markdown",
   "metadata": {},
   "source": [
    "### Plot stem extraction images for 1st and last img in each folder"
   ]
  },
  {
   "cell_type": "code",
   "execution_count": 2,
   "metadata": {
    "scrolled": true
   },
   "outputs": [
    {
     "name": "stdout",
     "output_type": "stream",
     "text": [
      "version_name v11 ...\n"
     ]
    },
    {
     "ename": "FileNotFoundError",
     "evalue": "[WinError 3] The system cannot find the path specified: 'E:/server_output/processed\\\\v11'",
     "output_type": "error",
     "traceback": [
      "\u001b[1;31m---------------------------------------------------------------------------\u001b[0m",
      "\u001b[1;31mFileNotFoundError\u001b[0m                         Traceback (most recent call last)",
      "\u001b[1;32m<ipython-input-2-48e10e65a650>\u001b[0m in \u001b[0;36m<module>\u001b[1;34m\u001b[0m\n\u001b[0;32m      4\u001b[0m \u001b[1;32melse\u001b[0m\u001b[1;33m:\u001b[0m\u001b[1;33m\u001b[0m\u001b[1;33m\u001b[0m\u001b[0m\n\u001b[0;32m      5\u001b[0m     \u001b[0mversion_dir\u001b[0m \u001b[1;33m=\u001b[0m \u001b[0mos\u001b[0m\u001b[1;33m.\u001b[0m\u001b[0mpath\u001b[0m\u001b[1;33m.\u001b[0m\u001b[0mjoin\u001b[0m\u001b[1;33m(\u001b[0m\u001b[0mdisk_path\u001b[0m\u001b[1;33m,\u001b[0m\u001b[1;34m\"unprocessed\"\u001b[0m\u001b[1;33m,\u001b[0m\u001b[0mversion_name\u001b[0m\u001b[1;33m)\u001b[0m\u001b[1;33m\u001b[0m\u001b[1;33m\u001b[0m\u001b[0m\n\u001b[1;32m----> 6\u001b[1;33m \u001b[0mall_folders_name\u001b[0m \u001b[1;33m=\u001b[0m \u001b[0msorted\u001b[0m\u001b[1;33m(\u001b[0m\u001b[0mos\u001b[0m\u001b[1;33m.\u001b[0m\u001b[0mlistdir\u001b[0m\u001b[1;33m(\u001b[0m\u001b[0mversion_dir\u001b[0m\u001b[1;33m)\u001b[0m\u001b[1;33m)\u001b[0m\u001b[1;33m\u001b[0m\u001b[1;33m\u001b[0m\u001b[0m\n\u001b[0m\u001b[0;32m      7\u001b[0m \u001b[1;31m#print(f'{all_folders_name}')\u001b[0m\u001b[1;33m\u001b[0m\u001b[1;33m\u001b[0m\u001b[1;33m\u001b[0m\u001b[0m\n\u001b[0;32m      8\u001b[0m \u001b[1;31m#only keep the folder names with \"stem\" or \"leaf\" (i.e. ignore folders like \"output\")\u001b[0m\u001b[1;33m\u001b[0m\u001b[1;33m\u001b[0m\u001b[1;33m\u001b[0m\u001b[0m\n",
      "\u001b[1;31mFileNotFoundError\u001b[0m: [WinError 3] The system cannot find the path specified: 'E:/server_output/processed\\\\v11'"
     ]
    }
   ],
   "source": [
    "print(f'version_name {version_name} ...')\n",
    "if has_processed==True:\n",
    "    version_dir = os.path.join(disk_path,\"processed\",version_name)\n",
    "else:\n",
    "    version_dir = os.path.join(disk_path,\"unprocessed\",version_name)\n",
    "all_folders_name = sorted(os.listdir(version_dir))\n",
    "#print(f'{all_folders_name}')\n",
    "#only keep the folder names with \"stem\" or \"leaf\" (i.e. ignore folders like \"output\")\n",
    "stem_list = [\"stem\"]\n",
    "all_folders_name,has_stem = check_foldername(all_folders_name,stem_list)\n",
    "#print(f'{has_stem_leaf}')#len(all_folders_name) x 2: each entry is {0 or 1}. 1st col \"stem\", 2nd col \"leaf\"\n",
    "all_folders_name_short = clean_folder_name(all_folders_name,has_stem,stem_list)\n",
    "print(f'{all_folders_name_short}')\n",
    "\n",
    "all_folders_dir = [os.path.join(version_dir,folder) for folder in all_folders_name]\n",
    "all_folders_dir_result = [os.path.join(folder_dir, os.listdir(folder_dir)[0]) for folder_dir in all_folders_dir]\n",
    "#print(f'{all_folders_dir_processed}')\n",
    "\n",
    "ncols = len(stem_filenames)\n",
    "nrows=len(all_folders_dir_result)\n",
    "\n",
    "fig, big_axes = plt.subplots( figsize=(2*ncols, 3*nrows) , nrows=nrows, ncols=1, sharey=True) \n",
    "\n",
    "for row, big_ax in enumerate(big_axes, start=1):\n",
    "    big_ax.set_title(\"%s \\n\" % all_folders_name_short[row-1], fontsize=13)\n",
    "    big_ax.axis(\"off\")\n",
    "    # Turn off axis lines and ticks of the big subplot \n",
    "    # obs alpha is 0 in RGBA string!\n",
    "    #big_ax.tick_params(labelcolor=(1.,1.,1., 0.0), top='off', bottom='off', left='off', right='off')\n",
    "    # removes the white frame\n",
    "    big_ax._frameon = False\n",
    "\n",
    "\n",
    "\n",
    "#fig, ax = plt.subplots(nrows=nrows, ncols=ncols,figsize=(9, 13))\n",
    "plot_i=1\n",
    "for p_i, processed_path in enumerate(all_folders_dir_result):\n",
    "    #folder_name = all_folders_name[p_i]\n",
    "    #print(f'{all_folders_name_short[p_i]}')\n",
    "    for f_i in range(len(stem_filenames)):\n",
    "        img = Image.open(os.path.join(processed_path,stem_filenames[f_i]))\n",
    "        ax = fig.add_subplot(nrows,ncols,plot_i)\n",
    "        ax.imshow(img)\n",
    "        ax.axis('off')\n",
    "        ax.set_title(stem_filenames_title[f_i])\n",
    "        plot_i +=1\n",
    "        #ax[p_i,f_i].imshow(img)\n",
    "        #ax[p_i,f_i].set_title(stem_filenames_title[f_i])\n",
    "plt.tight_layout()\n",
    "plt.show()      "
   ]
  }
 ],
 "metadata": {
  "kernelspec": {
   "display_name": "Python 3",
   "language": "python",
   "name": "python3"
  },
  "language_info": {
   "codemirror_mode": {
    "name": "ipython",
    "version": 3
   },
   "file_extension": ".py",
   "mimetype": "text/x-python",
   "name": "python",
   "nbconvert_exporter": "python",
   "pygments_lexer": "ipython3",
   "version": "3.7.4"
  }
 },
 "nbformat": 4,
 "nbformat_minor": 2
}
